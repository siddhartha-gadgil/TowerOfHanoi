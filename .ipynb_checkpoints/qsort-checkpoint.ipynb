{
 "cells": [
  {
   "cell_type": "markdown",
   "metadata": {},
   "source": [
    "# Recursion and Quicksort\n",
    "\n",
    "Recursion is the solution of problems by reducing to smaller instances of similar problems. We have seen an instance of this with the _Tower of Hanoi_. Another instance is the _quick-sort_ algorithm for sortin a list.\n",
    "\n",
    "## Quick sort\n",
    "\n",
    "Suppose we are given a list of distinct integers, which we need to sort into ascending order.\n",
    "\n",
    "* If the list has less than 2 elements, it is already sorted.\n",
    "* Suppose we have a list with at least two elements, for example `[197,86,23,119,56,175,135,149,132,166,33,77,27,44,53,162]`.\n",
    "* We pick a random element of the list, the _pivot_. For example `132` in the above list.\n",
    "* We construct two lists: _elements below the pivot_ and _elements above the pivot_, for example `[86,23,119,56,33,77,27,44,53]` and `[197,175,135,149,166,162]` in the above.\n",
    "* We use _quick sort_ recursively to sort the two lists, getting `[23,27,33,44,53,56,77,86,119]` and `[135,149,162,166,175,197]`\n",
    "* The sorted list is the first list, followed by the pivot, followed by the second list: `[23,27,33,44,53,56,77,86,119,132,135,149,162,166,175,197]`\n"
   ]
  },
  {
   "cell_type": "code",
   "execution_count": 1,
   "metadata": {},
   "outputs": [
    {
     "data": {
      "text/plain": [
       "\u001b[32mimport \u001b[39m\u001b[36mscala.util._\n",
       "\u001b[39m\n",
       "defined \u001b[32mfunction\u001b[39m \u001b[36mshow\u001b[39m"
      ]
     },
     "execution_count": 1,
     "metadata": {},
     "output_type": "execute_result"
    }
   ],
   "source": [
    "import scala.util._\n",
    "def show(vec: Vector[Int]) = vec.mkString(\"[\", \",\", \"]\")"
   ]
  },
  {
   "cell_type": "code",
   "execution_count": null,
   "metadata": {},
   "outputs": [],
   "source": []
  }
 ],
 "metadata": {
  "kernelspec": {
   "display_name": "scala-2.13",
   "language": "scala",
   "name": "scala-2.13"
  },
  "language_info": {
   "codemirror_mode": "text/x-scala",
   "file_extension": ".scala",
   "mimetype": "text/x-scala",
   "name": "scala",
   "nbconvert_exporter": "script",
   "version": "2.13.1"
  }
 },
 "nbformat": 4,
 "nbformat_minor": 4
}
