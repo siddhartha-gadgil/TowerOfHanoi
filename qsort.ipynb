{
 "cells": [
  {
   "cell_type": "code",
   "execution_count": 19,
   "metadata": {},
   "outputs": [
    {
     "data": {
      "text/plain": [
       "\u001b[32mimport \u001b[39m\u001b[36mscala.util._\n",
       "\u001b[39m\n",
       "\u001b[36mrnd\u001b[39m: \u001b[32mRandom\u001b[39m = scala.util.Random@f3fd776\n",
       "defined \u001b[32mfunction\u001b[39m \u001b[36mshow\u001b[39m"
      ]
     },
     "execution_count": 19,
     "metadata": {},
     "output_type": "execute_result"
    }
   ],
   "source": [
    "import scala.util._\n",
    "val rnd = new Random()\n",
    "def show(vec: Vector[Int]) = vec.mkString(\"[\", \",\", \"]\")"
   ]
  },
  {
   "cell_type": "code",
   "execution_count": 20,
   "metadata": {},
   "outputs": [
    {
     "data": {
      "text/plain": [
       "defined \u001b[32mfunction\u001b[39m \u001b[36mqsort\u001b[39m"
      ]
     },
     "execution_count": 20,
     "metadata": {},
     "output_type": "execute_result"
    }
   ],
   "source": [
    "def qsort(vec: Vector[Int]): Vector[Int] = if (vec.size < 2) vec else {\n",
    "    val pivot = vec (Random.nextInt (vec.size))\n",
    "    val left = vec.filter (_ < pivot)\n",
    "    val right = vec.filter (_ > pivot)\n",
    "    println (s\"${show(vec)} split: left = ${show(left)}, pivot = $pivot, right = ${show(right)}\")\n",
    "    qsort(left) ++ (pivot +: qsort (right))\n",
    "}"
   ]
  },
  {
   "cell_type": "code",
   "execution_count": 21,
   "metadata": {},
   "outputs": [
    {
     "data": {
      "text/plain": [
       "\u001b[36mrndVec\u001b[39m: \u001b[32mIndexedSeq\u001b[39m[\u001b[32mInt\u001b[39m] = \u001b[33mVector\u001b[39m(\n",
       "  \u001b[32m197\u001b[39m,\n",
       "  \u001b[32m14\u001b[39m,\n",
       "  \u001b[32m86\u001b[39m,\n",
       "  \u001b[32m23\u001b[39m,\n",
       "  \u001b[32m119\u001b[39m,\n",
       "  \u001b[32m56\u001b[39m,\n",
       "  \u001b[32m175\u001b[39m,\n",
       "  \u001b[32m135\u001b[39m,\n",
       "  \u001b[32m149\u001b[39m,\n",
       "  \u001b[32m11\u001b[39m,\n",
       "  \u001b[32m132\u001b[39m,\n",
       "  \u001b[32m166\u001b[39m,\n",
       "  \u001b[32m13\u001b[39m,\n",
       "  \u001b[32m33\u001b[39m,\n",
       "  \u001b[32m15\u001b[39m,\n",
       "  \u001b[32m77\u001b[39m,\n",
       "  \u001b[32m27\u001b[39m,\n",
       "  \u001b[32m44\u001b[39m,\n",
       "  \u001b[32m53\u001b[39m,\n",
       "  \u001b[32m162\u001b[39m\n",
       ")"
      ]
     },
     "execution_count": 21,
     "metadata": {},
     "output_type": "execute_result"
    }
   ],
   "source": [
    "val rndVec = (1 to 20).map(_ => Random.nextInt(200)).distinct"
   ]
  },
  {
   "cell_type": "code",
   "execution_count": 22,
   "metadata": {},
   "outputs": [
    {
     "name": "stdout",
     "output_type": "stream",
     "text": [
      "[197,14,86,23,119,56,175,135,149,11,132,166,13,33,15,77,27,44,53,162] split: left = [14,11,13], pivot = 15, right = [197,86,23,119,56,175,135,149,132,166,33,77,27,44,53,162]\n",
      "[14,11,13] split: left = [11,13], pivot = 14, right = []\n",
      "[11,13] split: left = [], pivot = 11, right = [13]\n",
      "[197,86,23,119,56,175,135,149,132,166,33,77,27,44,53,162] split: left = [86,23,119,56,33,77,27,44,53], pivot = 132, right = [197,175,135,149,166,162]\n",
      "[86,23,119,56,33,77,27,44,53] split: left = [23,56,33,77,27,44,53], pivot = 86, right = [119]\n",
      "[23,56,33,77,27,44,53] split: left = [23,27], pivot = 33, right = [56,77,44,53]\n",
      "[23,27] split: left = [23], pivot = 27, right = []\n",
      "[56,77,44,53] split: left = [], pivot = 44, right = [56,77,53]\n",
      "[56,77,53] split: left = [56,53], pivot = 77, right = []\n",
      "[56,53] split: left = [], pivot = 53, right = [56]\n",
      "[197,175,135,149,166,162] split: left = [135], pivot = 149, right = [197,175,166,162]\n",
      "[197,175,166,162] split: left = [175,166,162], pivot = 197, right = []\n",
      "[175,166,162] split: left = [], pivot = 162, right = [175,166]\n",
      "[175,166] split: left = [], pivot = 166, right = [175]\n"
     ]
    },
    {
     "data": {
      "text/plain": [
       "\u001b[36mres21\u001b[39m: \u001b[32mVector\u001b[39m[\u001b[32mInt\u001b[39m] = \u001b[33mVector\u001b[39m(\n",
       "  \u001b[32m11\u001b[39m,\n",
       "  \u001b[32m13\u001b[39m,\n",
       "  \u001b[32m14\u001b[39m,\n",
       "  \u001b[32m15\u001b[39m,\n",
       "  \u001b[32m23\u001b[39m,\n",
       "  \u001b[32m27\u001b[39m,\n",
       "  \u001b[32m33\u001b[39m,\n",
       "  \u001b[32m44\u001b[39m,\n",
       "  \u001b[32m53\u001b[39m,\n",
       "  \u001b[32m56\u001b[39m,\n",
       "  \u001b[32m77\u001b[39m,\n",
       "  \u001b[32m86\u001b[39m,\n",
       "  \u001b[32m119\u001b[39m,\n",
       "  \u001b[32m132\u001b[39m,\n",
       "  \u001b[32m135\u001b[39m,\n",
       "  \u001b[32m149\u001b[39m,\n",
       "  \u001b[32m162\u001b[39m,\n",
       "  \u001b[32m166\u001b[39m,\n",
       "  \u001b[32m175\u001b[39m,\n",
       "  \u001b[32m197\u001b[39m\n",
       ")"
      ]
     },
     "execution_count": 22,
     "metadata": {},
     "output_type": "execute_result"
    }
   ],
   "source": [
    "qsort(rndVec.toVector)"
   ]
  },
  {
   "cell_type": "code",
   "execution_count": null,
   "metadata": {},
   "outputs": [],
   "source": []
  }
 ],
 "metadata": {
  "kernelspec": {
   "display_name": "scala-2.13",
   "language": "scala",
   "name": "scala-2.13"
  },
  "language_info": {
   "codemirror_mode": "text/x-scala",
   "file_extension": ".scala",
   "mimetype": "text/x-scala",
   "name": "scala",
   "nbconvert_exporter": "script",
   "version": "2.13.1"
  }
 },
 "nbformat": 4,
 "nbformat_minor": 4
}
