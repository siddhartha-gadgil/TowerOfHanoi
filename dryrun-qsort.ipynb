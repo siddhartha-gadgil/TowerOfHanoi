{
 "cells": [
  {
   "cell_type": "code",
   "execution_count": 3,
   "metadata": {},
   "outputs": [
    {
     "data": {
      "text/plain": [
       "\u001b[32mimport \u001b[39m\u001b[36mscala.util._\n",
       "\u001b[39m\n",
       "\u001b[36mrnd\u001b[39m: \u001b[32mRandom\u001b[39m = scala.util.Random@36c3c121\n",
       "defined \u001b[32mfunction\u001b[39m \u001b[36mshow\u001b[39m"
      ]
     },
     "execution_count": 3,
     "metadata": {},
     "output_type": "execute_result"
    }
   ],
   "source": [
    "import scala.util._\n",
    "val rnd = new Random()\n",
    "def show(vec: Vector[Int]) = vec.mkString(\"[\", \",\", \"]\")"
   ]
  },
  {
   "cell_type": "code",
   "execution_count": 15,
   "metadata": {},
   "outputs": [
    {
     "data": {
      "text/plain": [
       "defined \u001b[32mfunction\u001b[39m \u001b[36mqsort\u001b[39m"
      ]
     },
     "execution_count": 15,
     "metadata": {},
     "output_type": "execute_result"
    }
   ],
   "source": [
    "def qsort(vec: Vector[Int]): Vector[Int] = if (vec.size < 2) vec else {\n",
    "    val pivot = vec (Random.nextInt (vec.size))\n",
    "    val left = vec.filter (_ < pivot)\n",
    "    val right = vec.filter (_ > pivot)\n",
    "    println (s\"${show(vec)} split: left = ${show(left)}, pivot = $pivot, right = ${show(right)}\")\n",
    "    qsort(left) ++ (pivot +: qsort (right))\n",
    "}"
   ]
  },
  {
   "cell_type": "code",
   "execution_count": 21,
   "metadata": {},
   "outputs": [
    {
     "data": {
      "text/plain": [
       "\u001b[36mrndVec\u001b[39m: \u001b[32mIndexedSeq\u001b[39m[\u001b[32mInt\u001b[39m] = \u001b[33mVector\u001b[39m(\n",
       "  \u001b[32m197\u001b[39m,\n",
       "  \u001b[32m14\u001b[39m,\n",
       "  \u001b[32m86\u001b[39m,\n",
       "  \u001b[32m23\u001b[39m,\n",
       "  \u001b[32m119\u001b[39m,\n",
       "  \u001b[32m56\u001b[39m,\n",
       "  \u001b[32m175\u001b[39m,\n",
       "  \u001b[32m135\u001b[39m,\n",
       "  \u001b[32m149\u001b[39m,\n",
       "  \u001b[32m11\u001b[39m,\n",
       "  \u001b[32m132\u001b[39m,\n",
       "  \u001b[32m166\u001b[39m,\n",
       "  \u001b[32m13\u001b[39m,\n",
       "  \u001b[32m33\u001b[39m,\n",
       "  \u001b[32m15\u001b[39m,\n",
       "  \u001b[32m77\u001b[39m,\n",
       "  \u001b[32m27\u001b[39m,\n",
       "  \u001b[32m44\u001b[39m,\n",
       "  \u001b[32m53\u001b[39m,\n",
       "  \u001b[32m162\u001b[39m\n",
       ")"
      ]
     },
     "execution_count": 21,
     "metadata": {},
     "output_type": "execute_result"
    }
   ],
   "source": [
    "val rndVec = (1 to 20).map(_ => Random.nextInt(200)).distinct"
   ]
  },
  {
   "cell_type": "code",
   "execution_count": 22,
   "metadata": {},
   "outputs": [
    {
     "name": "stdout",
     "output_type": "stream",
     "text": [
      "[197,14,86,23,119,56,175,135,149,11,132,166,13,33,15,77,27,44,53,162] split: left = [14,11,13], pivot = 15, right = [197,86,23,119,56,175,135,149,132,166,33,77,27,44,53,162]\n",
      "[14,11,13] split: left = [11,13], pivot = 14, right = []\n",
      "[11,13] split: left = [], pivot = 11, right = [13]\n",
      "[197,86,23,119,56,175,135,149,132,166,33,77,27,44,53,162] split: left = [86,23,119,56,33,77,27,44,53], pivot = 132, right = [197,175,135,149,166,162]\n",
      "[86,23,119,56,33,77,27,44,53] split: left = [23,56,33,77,27,44,53], pivot = 86, right = [119]\n",
      "[23,56,33,77,27,44,53] split: left = [23,27], pivot = 33, right = [56,77,44,53]\n",
      "[23,27] split: left = [23], pivot = 27, right = []\n",
      "[56,77,44,53] split: left = [], pivot = 44, right = [56,77,53]\n",
      "[56,77,53] split: left = [56,53], pivot = 77, right = []\n",
      "[56,53] split: left = [], pivot = 53, right = [56]\n",
      "[197,175,135,149,166,162] split: left = [135], pivot = 149, right = [197,175,166,162]\n",
      "[197,175,166,162] split: left = [175,166,162], pivot = 197, right = []\n",
      "[175,166,162] split: left = [], pivot = 162, right = [175,166]\n",
      "[175,166] split: left = [], pivot = 166, right = [175]\n"
     ]
    },
    {
     "data": {
      "text/plain": [
       "\u001b[36mres21\u001b[39m: \u001b[32mVector\u001b[39m[\u001b[32mInt\u001b[39m] = \u001b[33mVector\u001b[39m(\n",
       "  \u001b[32m11\u001b[39m,\n",
       "  \u001b[32m13\u001b[39m,\n",
       "  \u001b[32m14\u001b[39m,\n",
       "  \u001b[32m15\u001b[39m,\n",
       "  \u001b[32m23\u001b[39m,\n",
       "  \u001b[32m27\u001b[39m,\n",
       "  \u001b[32m33\u001b[39m,\n",
       "  \u001b[32m44\u001b[39m,\n",
       "  \u001b[32m53\u001b[39m,\n",
       "  \u001b[32m56\u001b[39m,\n",
       "  \u001b[32m77\u001b[39m,\n",
       "  \u001b[32m86\u001b[39m,\n",
       "  \u001b[32m119\u001b[39m,\n",
       "  \u001b[32m132\u001b[39m,\n",
       "  \u001b[32m135\u001b[39m,\n",
       "  \u001b[32m149\u001b[39m,\n",
       "  \u001b[32m162\u001b[39m,\n",
       "  \u001b[32m166\u001b[39m,\n",
       "  \u001b[32m175\u001b[39m,\n",
       "  \u001b[32m197\u001b[39m\n",
       ")"
      ]
     },
     "execution_count": 22,
     "metadata": {},
     "output_type": "execute_result"
    }
   ],
   "source": [
    "qsort(rndVec.toVector)"
   ]
  },
  {
   "cell_type": "code",
   "execution_count": 4,
   "metadata": {},
   "outputs": [
    {
     "data": {
      "text/plain": [
       "\u001b[32mimport \u001b[39m\u001b[36mscala.concurrent._\n",
       "\u001b[39m\n",
       "\u001b[36mec\u001b[39m: \u001b[32mExecutionContext\u001b[39m = scala.concurrent.impl.ExecutionContextImpl$$anon$3@490985b2[Running, parallelism = 12, size = 1, active = 0, running = 0, steals = 1, tasks = 0, submissions = 0]"
      ]
     },
     "execution_count": 4,
     "metadata": {},
     "output_type": "execute_result"
    }
   ],
   "source": [
    "import scala.concurrent._\n",
    "implicit val ec: scala.concurrent.ExecutionContext = scala.concurrent.ExecutionContext.global"
   ]
  },
  {
   "cell_type": "code",
   "execution_count": 13,
   "metadata": {},
   "outputs": [
    {
     "data": {
      "text/plain": [
       "defined \u001b[32mfunction\u001b[39m \u001b[36mqSortF\u001b[39m"
      ]
     },
     "execution_count": 13,
     "metadata": {},
     "output_type": "execute_result"
    }
   ],
   "source": [
    "def qSortF(vec: Vector[Int]): Future[Vector[Int]] = \n",
    "    if (vec.size < 2) Future(vec) else {\n",
    "        val pivot = vec(Random.nextInt(vec.size))\n",
    "        val beforeF = Future(vec.filter(_ < pivot))\n",
    "        val afterF = Future(vec.filter(_ > pivot))\n",
    "        val sbF = beforeF.flatMap(before => qSortF(before))\n",
    "        val saF = afterF.flatMap(after => qSortF(after))\n",
    "        sbF.zipWith(saF){\n",
    "            case (sa, sb) => sa ++ (pivot +: sb)}\n",
    "    }"
   ]
  },
  {
   "cell_type": "code",
   "execution_count": 14,
   "metadata": {},
   "outputs": [
    {
     "data": {
      "text/plain": [
       "\u001b[36mrndVec\u001b[39m: \u001b[32mIndexedSeq\u001b[39m[\u001b[32mInt\u001b[39m] = \u001b[33mVector\u001b[39m(\n",
       "  \u001b[32m5056532\u001b[39m,\n",
       "  \u001b[32m63935313\u001b[39m,\n",
       "  \u001b[32m102101880\u001b[39m,\n",
       "  \u001b[32m46813461\u001b[39m,\n",
       "  \u001b[32m85143547\u001b[39m,\n",
       "  \u001b[32m44515852\u001b[39m,\n",
       "  \u001b[32m33916675\u001b[39m,\n",
       "  \u001b[32m47164210\u001b[39m,\n",
       "  \u001b[32m53923611\u001b[39m,\n",
       "  \u001b[32m167701544\u001b[39m,\n",
       "  \u001b[32m33645806\u001b[39m,\n",
       "  \u001b[32m5171290\u001b[39m,\n",
       "  \u001b[32m175660448\u001b[39m,\n",
       "  \u001b[32m129629317\u001b[39m,\n",
       "  \u001b[32m7269672\u001b[39m,\n",
       "  \u001b[32m99770950\u001b[39m,\n",
       "  \u001b[32m54135476\u001b[39m,\n",
       "  \u001b[32m30227316\u001b[39m,\n",
       "  \u001b[32m97688762\u001b[39m,\n",
       "  \u001b[32m156292108\u001b[39m,\n",
       "  \u001b[32m36167914\u001b[39m,\n",
       "  \u001b[32m1023924\u001b[39m,\n",
       "  \u001b[32m147041287\u001b[39m,\n",
       "  \u001b[32m149389521\u001b[39m,\n",
       "  \u001b[32m69242372\u001b[39m,\n",
       "  \u001b[32m69227388\u001b[39m,\n",
       "  \u001b[32m8313508\u001b[39m,\n",
       "  \u001b[32m197591964\u001b[39m,\n",
       "  \u001b[32m4998552\u001b[39m,\n",
       "  \u001b[32m96281298\u001b[39m,\n",
       "  \u001b[32m60883525\u001b[39m,\n",
       "  \u001b[32m117916409\u001b[39m,\n",
       "  \u001b[32m43436203\u001b[39m,\n",
       "  \u001b[32m90795156\u001b[39m,\n",
       "  \u001b[32m55886732\u001b[39m,\n",
       "  \u001b[32m59638419\u001b[39m,\n",
       "  \u001b[32m39318129\u001b[39m,\n",
       "  \u001b[32m61167174\u001b[39m,\n",
       "..."
      ]
     },
     "execution_count": 14,
     "metadata": {},
     "output_type": "execute_result"
    }
   ],
   "source": [
    "val rndVec = (1 to 20000000).map(_ => Random.nextInt(200000000)).distinct"
   ]
  },
  {
   "cell_type": "code",
   "execution_count": 12,
   "metadata": {},
   "outputs": [
    {
     "data": {
      "text/html": [
       "<div class=\"jp-RenderedText\">\n",
       "<pre><code><span style=\"color: rgb(0, 187, 187)\"><span class=\"ansi-cyan-fg\">sorted</span></span>: <span style=\"color: rgb(0, 187, 0)\"><span class=\"ansi-green-fg\">Future</span></span>[<span style=\"color: rgb(0, 187, 0)\"><span class=\"ansi-green-fg\">Vector</span></span>[<span style=\"color: rgb(0, 187, 0)\"><span class=\"ansi-green-fg\">Int</span></span>]] = <span style=\"color: rgb(0, 187, 0)\"><span class=\"ansi-green-fg\"><style>@keyframes fadein { from { opacity: 0; } to { opacity: 1; } }</style><span style=\"animation: fadein 2s;\"><span style=\"color: yellow\"><span class=\"ansi-yellow-fg\">Success</span></span>(\n",
       "  <span style=\"color: yellow\"><span class=\"ansi-yellow-fg\">Vector</span></span>(\n",
       "    <span style=\"color: rgb(0, 187, 0)\"><span class=\"ansi-green-fg\">8</span></span>,\n",
       "    <span style=\"color: rgb(0, 187, 0)\"><span class=\"ansi-green-fg\">10</span></span>,\n",
       "    <span style=\"color: rgb(0, 187, 0)\"><span class=\"ansi-green-fg\">13</span></span>,\n",
       "    <span style=\"color: rgb(0, 187, 0)\"><span class=\"ansi-green-fg\">14</span></span>,\n",
       "    <span style=\"color: rgb(0, 187, 0)\"><span class=\"ansi-green-fg\">16</span></span>,\n",
       "    <span style=\"color: rgb(0, 187, 0)\"><span class=\"ansi-green-fg\">20</span></span>,\n",
       "    <span style=\"color: rgb(0, 187, 0)\"><span class=\"ansi-green-fg\">23</span></span>,\n",
       "    <span style=\"color: rgb(0, 187, 0)\"><span class=\"ansi-green-fg\">27</span></span>,\n",
       "    <span style=\"color: rgb(0, 187, 0)\"><span class=\"ansi-green-fg\">36</span></span>,\n",
       "    <span style=\"color: rgb(0, 187, 0)\"><span class=\"ansi-green-fg\">58</span></span>,\n",
       "    <span style=\"color: rgb(0, 187, 0)\"><span class=\"ansi-green-fg\">63</span></span>,\n",
       "    <span style=\"color: rgb(0, 187, 0)\"><span class=\"ansi-green-fg\">67</span></span>,\n",
       "    <span style=\"color: rgb(0, 187, 0)\"><span class=\"ansi-green-fg\">87</span></span>,\n",
       "    <span style=\"color: rgb(0, 187, 0)\"><span class=\"ansi-green-fg\">95</span></span>,\n",
       "    <span style=\"color: rgb(0, 187, 0)\"><span class=\"ansi-green-fg\">128</span></span>,\n",
       "    <span style=\"color: rgb(0, 187, 0)\"><span class=\"ansi-green-fg\">130</span></span>,\n",
       "    <span style=\"color: rgb(0, 187, 0)\"><span class=\"ansi-green-fg\">140</span></span>,\n",
       "    <span style=\"color: rgb(0, 187, 0)\"><span class=\"ansi-green-fg\">141</span></span>,\n",
       "    <span style=\"color: rgb(0, 187, 0)\"><span class=\"ansi-green-fg\">147</span></span>,\n",
       "    <span style=\"color: rgb(0, 187, 0)\"><span class=\"ansi-green-fg\">148</span></span>,\n",
       "    <span style=\"color: rgb(0, 187, 0)\"><span class=\"ansi-green-fg\">152</span></span>,\n",
       "    <span style=\"color: rgb(0, 187, 0)\"><span class=\"ansi-green-fg\">157</span></span>,\n",
       "    <span style=\"color: rgb(0, 187, 0)\"><span class=\"ansi-green-fg\">160</span></span>,\n",
       "    <span style=\"color: rgb(0, 187, 0)\"><span class=\"ansi-green-fg\">182</span></span>,\n",
       "    <span style=\"color: rgb(0, 187, 0)\"><span class=\"ansi-green-fg\">191</span></span>,\n",
       "    <span style=\"color: rgb(0, 187, 0)\"><span class=\"ansi-green-fg\">196</span></span>,\n",
       "    <span style=\"color: rgb(0, 187, 0)\"><span class=\"ansi-green-fg\">197</span></span>,\n",
       "    <span style=\"color: rgb(0, 187, 0)\"><span class=\"ansi-green-fg\">201</span></span>,\n",
       "    <span style=\"color: rgb(0, 187, 0)\"><span class=\"ansi-green-fg\">203</span></span>,\n",
       "    <span style=\"color: rgb(0, 187, 0)\"><span class=\"ansi-green-fg\">205</span></span>,\n",
       "    <span style=\"color: rgb(0, 187, 0)\"><span class=\"ansi-green-fg\">239</span></span>,\n",
       "    <span style=\"color: rgb(0, 187, 0)\"><span class=\"ansi-green-fg\">262</span></span>,\n",
       "    <span style=\"color: rgb(0, 187, 0)\"><span class=\"ansi-green-fg\">265</span></span>,\n",
       "    <span style=\"color: rgb(0, 187, 0)\"><span class=\"ansi-green-fg\">276</span></span>,\n",
       "    <span style=\"color: rgb(0, 187, 0)\"><span class=\"ansi-green-fg\">282</span></span>,\n",
       "    <span style=\"color: rgb(0, 187, 0)\"><span class=\"ansi-green-fg\">285</span></span>,\n",
       "    <span style=\"color: rgb(0, 187, 0)\"><span class=\"ansi-green-fg\">309</span></span>,\n",
       "...</span></span></span></code></pre>\n",
       "</div>"
      ],
      "text/plain": [
       "\u001b[36msorted\u001b[39m: \u001b[32mFuture\u001b[39m[\u001b[32mVector\u001b[39m[\u001b[32mInt\u001b[39m]] = \u001b[32m\u001b[33mSuccess\u001b[39m(\n",
       "  \u001b[33mVector\u001b[39m(\n",
       "    \u001b[32m8\u001b[39m,\n",
       "    \u001b[32m10\u001b[39m,\n",
       "    \u001b[32m13\u001b[39m,\n",
       "    \u001b[32m14\u001b[39m,\n",
       "    \u001b[32m16\u001b[39m,\n",
       "    \u001b[32m20\u001b[39m,\n",
       "    \u001b[32m23\u001b[39m,\n",
       "    \u001b[32m27\u001b[39m,\n",
       "    \u001b[32m36\u001b[39m,\n",
       "    \u001b[32m58\u001b[39m,\n",
       "    \u001b[32m63\u001b[39m,\n",
       "    \u001b[32m67\u001b[39m,\n",
       "    \u001b[32m87\u001b[39m,\n",
       "    \u001b[32m95\u001b[39m,\n",
       "    \u001b[32m128\u001b[39m,\n",
       "    \u001b[32m130\u001b[39m,\n",
       "    \u001b[32m140\u001b[39m,\n",
       "    \u001b[32m141\u001b[39m,\n",
       "    \u001b[32m147\u001b[39m,\n",
       "    \u001b[32m148\u001b[39m,\n",
       "    \u001b[32m152\u001b[39m,\n",
       "    \u001b[32m157\u001b[39m,\n",
       "    \u001b[32m160\u001b[39m,\n",
       "    \u001b[32m182\u001b[39m,\n",
       "    \u001b[32m191\u001b[39m,\n",
       "    \u001b[32m196\u001b[39m,\n",
       "    \u001b[32m197\u001b[39m,\n",
       "    \u001b[32m201\u001b[39m,\n",
       "    \u001b[32m203\u001b[39m,\n",
       "    \u001b[32m205\u001b[39m,\n",
       "    \u001b[32m239\u001b[39m,\n",
       "    \u001b[32m262\u001b[39m,\n",
       "    \u001b[32m265\u001b[39m,\n",
       "    \u001b[32m276\u001b[39m,\n",
       "    \u001b[32m282\u001b[39m,\n",
       "    \u001b[32m285\u001b[39m,\n",
       "    \u001b[32m309\u001b[39m,\n",
       "...\u001b[39m"
      ]
     },
     "metadata": {},
     "output_type": "display_data"
    }
   ],
   "source": [
    "val sorted = qSortF(rndVec.toVector)"
   ]
  },
  {
   "cell_type": "code",
   "execution_count": 16,
   "metadata": {},
   "outputs": [
    {
     "name": "stdout",
     "output_type": "stream",
     "text": [
      "[86,23,119,56,33,77,27,44,53] split: left = [23,27], pivot = 33, right = [86,119,56,77,44,53]\n",
      "[23,27] split: left = [23], pivot = 27, right = []\n",
      "[86,119,56,77,44,53] split: left = [86,56,77,44,53], pivot = 119, right = []\n",
      "[86,56,77,44,53] split: left = [44], pivot = 53, right = [86,56,77]\n",
      "[86,56,77] split: left = [56], pivot = 77, right = [86]\n"
     ]
    },
    {
     "data": {
      "text/plain": [
       "\u001b[36mres15\u001b[39m: \u001b[32mString\u001b[39m = \u001b[32m\"[23,27,33,44,53,56,77,86,119]\"\u001b[39m"
      ]
     },
     "execution_count": 16,
     "metadata": {},
     "output_type": "execute_result"
    }
   ],
   "source": [
    "show(qsort(Vector(86,23,119,56,33,77,27,44,53)))"
   ]
  },
  {
   "cell_type": "code",
   "execution_count": 17,
   "metadata": {},
   "outputs": [
    {
     "name": "stdout",
     "output_type": "stream",
     "text": [
      "[197,175,135,149,166,162] split: left = [135,149], pivot = 162, right = [197,175,166]\n",
      "[135,149] split: left = [], pivot = 135, right = [149]\n",
      "[197,175,166] split: left = [175,166], pivot = 197, right = []\n",
      "[175,166] split: left = [166], pivot = 175, right = []\n"
     ]
    },
    {
     "data": {
      "text/plain": [
       "\u001b[36mres16\u001b[39m: \u001b[32mString\u001b[39m = \u001b[32m\"[135,149,162,166,175,197]\"\u001b[39m"
      ]
     },
     "execution_count": 17,
     "metadata": {},
     "output_type": "execute_result"
    }
   ],
   "source": [
    "show(qsort(Vector(197,175,135,149,166,162)))"
   ]
  }
 ],
 "metadata": {
  "kernelspec": {
   "display_name": "scala-2.13",
   "language": "scala",
   "name": "scala-2.13"
  },
  "language_info": {
   "codemirror_mode": "text/x-scala",
   "file_extension": ".scala",
   "mimetype": "text/x-scala",
   "name": "scala",
   "nbconvert_exporter": "script",
   "version": "2.13.1"
  }
 },
 "nbformat": 4,
 "nbformat_minor": 4
}
